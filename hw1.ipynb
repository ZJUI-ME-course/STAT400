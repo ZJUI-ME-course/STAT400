{
 "cells": [
  {
   "cell_type": "code",
   "execution_count": 3,
   "id": "fb62ac32",
   "metadata": {},
   "outputs": [
    {
     "data": {
      "text/plain": [
       "0.37125164210492845"
      ]
     },
     "execution_count": 3,
     "metadata": {},
     "output_type": "execute_result"
    }
   ],
   "source": [
    "from math import *\n",
    "\n",
    "1/(e**3-1)\n",
    "(e**3-13)/(e**3-1)\n"
   ]
  },
  {
   "cell_type": "code",
   "execution_count": 9,
   "id": "f17881d1",
   "metadata": {},
   "outputs": [
    {
     "data": {
      "text/plain": [
       "0.875"
      ]
     },
     "execution_count": 9,
     "metadata": {},
     "output_type": "execute_result"
    }
   ],
   "source": [
    "pi**2-1\n",
    "1/(pi**2+1)\n",
    "8/27\n",
    "4/27\n",
    "5/9\n",
    "7/8"
   ]
  }
 ],
 "metadata": {
  "kernelspec": {
   "display_name": "Python 3",
   "language": "python",
   "name": "python3"
  },
  "language_info": {
   "codemirror_mode": {
    "name": "ipython",
    "version": 3
   },
   "file_extension": ".py",
   "mimetype": "text/x-python",
   "name": "python",
   "nbconvert_exporter": "python",
   "pygments_lexer": "ipython3",
   "version": "3.9.6"
  }
 },
 "nbformat": 4,
 "nbformat_minor": 5
}
